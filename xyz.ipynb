{
 "cells": [
  {
   "cell_type": "code",
   "execution_count": null,
   "metadata": {},
   "outputs": [],
   "source": [
    "a = input(\"Enter a binary number: \")\n",
    "ones_complement = \"\"\n",
    "for bit in a:\n",
    " if bit == '0':\n",
    "    ones_complement += '1'\n",
    " else:\n",
    "    ones_complement += '0'\n",
    " \n",
    "    twos_complement = \"\"\n",
    "    carry = 1\n",
    "for bit in reversed(ones_complement):\n",
    " if bit == '0' and carry == 1:\n",
    "    twos_complement += '1'\n",
    "    carry = 0\n",
    " elif bit == '1' and carry == 1:\n",
    "    twos_complement += '0'\n",
    " else:\n",
    "    twos_complement += bit\n",
    "    twos_complement = twos_complement[::-1] \n",
    "    print(\"2's complement:\", twos_complement)\n"
   ]
  }
 ],
 "metadata": {
  "kernelspec": {
   "display_name": "Python 3",
   "language": "python",
   "name": "python3"
  },
  "language_info": {
   "codemirror_mode": {
    "name": "ipython",
    "version": 3
   },
   "file_extension": ".py",
   "mimetype": "text/x-python",
   "name": "python",
   "nbconvert_exporter": "python",
   "pygments_lexer": "ipython3",
   "version": "3.11.2"
  },
  "orig_nbformat": 4
 },
 "nbformat": 4,
 "nbformat_minor": 2
}
